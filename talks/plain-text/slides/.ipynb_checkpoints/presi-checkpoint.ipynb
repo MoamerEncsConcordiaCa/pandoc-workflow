{
 "metadata": {
  "celltoolbar": "Slideshow",
  "name": "",
  "signature": "sha256:5ac0fb398ac282e27c4368afb7f8431c952e4a2ffa47129b947c16a6660fa0cd"
 },
 "nbformat": 3,
 "nbformat_minor": 0,
 "worksheets": [
  {
   "cells": [
    {
     "cell_type": "markdown",
     "metadata": {
      "slideshow": {
       "slide_type": "slide"
      }
     },
     "source": [
      "# Ethics of Plain Text\n",
      "@dennistenen  \n",
      "@gwijthoff  \n",
      "\n",
      "`talk:` [tiny.cc/plain-slides](tiny.cc/plain-slides)"
     ]
    },
    {
     "cell_type": "markdown",
     "metadata": {
      "slideshow": {
       "slide_type": "slide"
      }
     },
     "source": [
      "## Plan for today\n",
      "I. what is DH?  \n",
      "II. material contexts of (our) knowledge production  \n",
      "III. plain text: key concepts through the command line"
     ]
    },
    {
     "cell_type": "markdown",
     "metadata": {
      "slideshow": {
       "slide_type": "slide"
      }
     },
     "source": [
      "## I: What is DH?\n",
      "\n",
      "`computational culture` studies  \n",
      "vs. \n",
      "computational `culture studies`"
     ]
    },
    {
     "cell_type": "markdown",
     "metadata": {
      "slideshow": {
       "slide_type": "fragment"
      }
     },
     "source": [
      "knowledge design + knowledge architecture   "
     ]
    },
    {
     "cell_type": "markdown",
     "metadata": {
      "slideshow": {
       "slide_type": "fragment"
      }
     },
     "source": [
      "advocacy: access, labor conditions, policy, global imbalance  "
     ]
    },
    {
     "cell_type": "markdown",
     "metadata": {
      "slideshow": {
       "slide_type": "subslide"
      }
     },
     "source": [
      "### thinking + doing (the good)\n",
      "\n",
      "| old              | new                   |\n",
      "|------------------|-----------------------|\n",
      "| dogmatic         | pragmatic             |\n",
      "| solitary         | cooperative           | \n",
      "| discipline-bound | project-based         | \n",
      "| resource-starved | entrepreneurial       | \n",
      "| hierarchical     | flat                  | \n",
      "| top-down         | bottom up             |\n",
      "| prestige         | problem solving       |\n",
      "| conservative     | transformative        |\n"
     ]
    },
    {
     "cell_type": "markdown",
     "metadata": {
      "slideshow": {
       "slide_type": "subslide"
      }
     },
     "source": [
      "### the bad and the ugly\n",
      "\n",
      "DH can also be:  \n",
      "- instrumental  \n",
      "- shallow   \n",
      "- atheoretical  \n",
      "- ahistorical  \n",
      "- tool obsessed  \n",
      "- meta solipsistic  \n",
      "- administrative  \n",
      "- sensationalist hype and kool-aid (not unlike big data)  "
     ]
    },
    {
     "cell_type": "markdown",
     "metadata": {
      "slideshow": {
       "slide_type": "subslide"
      }
     },
     "source": [
      "### Ex.: Aleph\n",
      "- 1,021,000 books\n",
      "- 15,000,000 articles\n",
      "- 10+ tb"
     ]
    },
    {
     "cell_type": "markdown",
     "metadata": {
      "slideshow": {
       "slide_type": "fragment"
      }
     },
     "source": [
      "- \\$1,900 / year"
     ]
    },
    {
     "cell_type": "markdown",
     "metadata": {
      "slideshow": {
       "slide_type": "fragment"
      }
     },
     "source": [
      "- vs. \\$61,869,272 for CUL 2011-12"
     ]
    },
    {
     "cell_type": "markdown",
     "metadata": {
      "slideshow": {
       "slide_type": "slide"
      }
     },
     "source": [
      "## II. Material Contexts"
     ]
    },
    {
     "cell_type": "markdown",
     "metadata": {
      "slideshow": {
       "slide_type": "fragment"
      }
     },
     "source": [
      "`Thesis:` material contexts of knowledge production enable a certain economic and pherhaps political order     "
     ]
    },
    {
     "cell_type": "markdown",
     "metadata": {
      "slideshow": {
       "slide_type": "fragment"
      }
     },
     "source": [
      "`Observation:` computers are deeply textual machines   "
     ]
    },
    {
     "cell_type": "markdown",
     "metadata": {
      "slideshow": {
       "slide_type": "fragment"
      }
     },
     "source": [
      "`Corollary:` disconnect between practice and theory"
     ]
    },
    {
     "cell_type": "markdown",
     "metadata": {
      "slideshow": {
       "slide_type": "subslide"
      }
     },
     "source": [
      "### Surface:\n",
      "<img src=\"img/protest.png\">"
     ]
    },
    {
     "cell_type": "markdown",
     "metadata": {
      "slideshow": {
       "slide_type": "subslide"
      }
     },
     "source": [
      "<img src=\"http://fiscaltoday.com/images/2013/08/tobacco-products-have-some-pretty-fat-profit-margins_iaapr_1.jpg\">"
     ]
    },
    {
     "cell_type": "markdown",
     "metadata": {
      "slideshow": {
       "slide_type": "fragment"
      }
     },
     "source": [
      "Elsevier 2011: \u00a3768m on revenue of \u00a32b (38% margin)  \n",
      "http://www.reedelsevier.com/mediacentre/pressreleases/2012/Pages/reed-elsevier-2011-results-announcement.aspx"
     ]
    },
    {
     "cell_type": "markdown",
     "metadata": {
      "slideshow": {
       "slide_type": "subslide"
      }
     },
     "source": [
      "### (re)mediation:\n",
      "<img src=\"img/base.png\">"
     ]
    },
    {
     "cell_type": "markdown",
     "metadata": {
      "slideshow": {
       "slide_type": "subslide"
      }
     },
     "source": [
      "### Vector:\n",
      "<img src=\"img/publishing.png\">"
     ]
    },
    {
     "cell_type": "markdown",
     "metadata": {
      "slideshow": {
       "slide_type": "fragment"
      }
     },
     "source": [
      "$4000 per article cost to the journal \n",
      "http://www.nature.com/news/open-access-the-true-cost-of-science-publishing-1.12676"
     ]
    },
    {
     "cell_type": "markdown",
     "metadata": {
      "slideshow": {
       "slide_type": "slide"
      }
     },
     "source": [
      "## III. Plain Text"
     ]
    },
    {
     "cell_type": "markdown",
     "metadata": {
      "slideshow": {
       "slide_type": "subslide"
      }
     },
     "source": [
      "> Unix tradition strongly encourages writing programs that read and write simple, textual, stream-oriented, device-independent formats.   \n",
      "\n",
      "\\- *The Art of Unix Programming* (2003), by Eric Steven Raymond"
     ]
    },
    {
     "cell_type": "markdown",
     "metadata": {
      "slideshow": {
       "slide_type": "fragment"
      }
     },
     "source": [
      "> Expect the output of every program to become the input to another, as yet unknown, program. Don't clutter output with extraneous information. Avoid stringently columnar or binary input formats.\n",
      "\n",
      "\\- The Bell System Technical Journal. Bell Laboratories. M. D. McIlroy, E. N. Pinson, and B. A. Tague. \u201cUnix Time-Sharing System Forward\u201d. 1978. 57 (6, part 2). p. 1902."
     ]
    },
    {
     "cell_type": "markdown",
     "metadata": {
      "slideshow": {
       "slide_type": "fragment"
      }
     },
     "source": [
      "> This is the Unix philosophy: Write programs that do one thing and do it well. Write programs to work together. Write programs to handle text streams, because that is a universal interface.\n",
      "\n",
      "\\- Peter H. Salus. A Quarter-Century of Unix. Addison-Wesley. 1994."
     ]
    },
    {
     "cell_type": "markdown",
     "metadata": {
      "slideshow": {
       "slide_type": "subslide"
      }
     },
     "source": [
      "### Key concepts"
     ]
    },
    {
     "cell_type": "markdown",
     "metadata": {
      "slideshow": {
       "slide_type": "fragment"
      }
     },
     "source": [
      "**surface, depth**  \n",
      "`pwd`, `ls`, `cd`, `cat`, `man`  "
     ]
    },
    {
     "cell_type": "markdown",
     "metadata": {
      "slideshow": {
       "slide_type": "fragment"
      }
     },
     "source": [
      "**vector**  \n",
      "`cat | grep`  "
     ]
    },
    {
     "cell_type": "markdown",
     "metadata": {
      "slideshow": {
       "slide_type": "fragment"
      }
     },
     "source": [
      "**(re)mediation**  \n",
      "markdown, `pandoc`   "
     ]
    },
    {
     "cell_type": "markdown",
     "metadata": {
      "slideshow": {
       "slide_type": "slide"
      }
     },
     "source": [
      "### Stay in touch!  \n",
      "\n",
      "@dennistenen  \n",
      "@gwijthoff  \n",
      "\n",
      "dennistenen.com  \n",
      "wythoff.net\n",
      "\n",
      "`talk:` tiny.cc/plain-slides  \n",
      "`tutorial:` tiny.cc/plain-text  \n",
      "\n",
      "made with: `ipython notebook` + `markdown` + `reveal.js` + `plain text`"
     ]
    }
   ],
   "metadata": {}
  }
 ]
}