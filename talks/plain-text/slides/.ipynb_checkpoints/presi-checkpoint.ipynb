{
 "metadata": {
  "celltoolbar": "Slideshow",
  "name": "",
  "signature": "sha256:5ac0fb398ac282e27c4368afb7f8431c952e4a2ffa47129b947c16a6660fa0cd"
 },
 "nbformat": 3,
 "nbformat_minor": 0,
 "worksheets": [
  {
   "cells": [
    {
     "cell_type": "markdown",
     "metadata": {
      "slideshow": {
       "slide_type": "slide"
      }
     },
     "source": [
      "# Ethics of Plain Text\n",
      "@dennistenen  \n",
      "@gwijthoff  \n",
      "https://github.com/dhcolumbia/pandoc-workflow/tree/master/talks/plain-text"
     ]
    },
    {
     "cell_type": "markdown",
     "metadata": {
      "slideshow": {
       "slide_type": "slide"
      }
     },
     "source": [
      "## Plan for today\n",
      "I. what is DH  \n",
      "II. plain text: core concepts and critical vocab  \n",
      "III. addressing practice  "
     ]
    },
    {
     "cell_type": "markdown",
     "metadata": {
      "slideshow": {
       "slide_type": "slide"
      }
     },
     "source": [
      "## I: What is DH?\n",
      "\n",
      "`computational culture` studies  \n",
      "vs. \n",
      "computational `culture studies`"
     ]
    },
    {
     "cell_type": "markdown",
     "metadata": {
      "slideshow": {
       "slide_type": "fragment"
      }
     },
     "source": [
      "knowledge design + knowledge architecture   "
     ]
    },
    {
     "cell_type": "markdown",
     "metadata": {
      "slideshow": {
       "slide_type": "fragment"
      }
     },
     "source": [
      "advocacy: access, labor conditions, policy, global imbalance  "
     ]
    },
    {
     "cell_type": "markdown",
     "metadata": {
      "slideshow": {
       "slide_type": "subslide"
      }
     },
     "source": [
      "### thinking + doing (the good)\n",
      "\n",
      "| old              | new                   |\n",
      "|------------------|-----------------------|\n",
      "| dogmatic         | pragmatic             |\n",
      "| solitary         | cooperative           | \n",
      "| discipline-bound | project-based         | \n",
      "| resource-starved | entrepreneurial       | \n",
      "| hierarchical     | flat                  | \n",
      "| top-down         | bottom up             |\n",
      "| prestige         | problem solving       |\n",
      "| conservative     | transformative        |\n"
     ]
    },
    {
     "cell_type": "markdown",
     "metadata": {
      "slideshow": {
       "slide_type": "subslide"
      }
     },
     "source": [
      "### the bad and the ugly\n",
      "\n",
      "DH can also be:  \n",
      "- instrumental  \n",
      "- shallow   \n",
      "- atheoretical  \n",
      "- ahistorical  \n",
      "- tool obsessed  \n",
      "- meta solipsistic  \n",
      "- administrative  \n",
      "- sensationalist hype and kool-aid (not unlike big data)  "
     ]
    },
    {
     "cell_type": "markdown",
     "metadata": {
      "slideshow": {
       "slide_type": "subslide"
      }
     },
     "source": [
      "### Ex.: Aleph\n",
      "- 1,021,000 books\n",
      "- 15,000,000 articles\n",
      "- 10+ tb"
     ]
    },
    {
     "cell_type": "markdown",
     "metadata": {
      "slideshow": {
       "slide_type": "fragment"
      }
     },
     "source": [
      "- $1,900 / year"
     ]
    },
    {
     "cell_type": "markdown",
     "metadata": {
      "slideshow": {
       "slide_type": "fragment"
      }
     },
     "source": [
      "- vs. $61,869,272 for CUL 2011-12"
     ]
    },
    {
     "cell_type": "markdown",
     "metadata": {
      "slideshow": {
       "slide_type": "slide"
      }
     },
     "source": [
      "## Plain Text\n",
      "\n",
      "Thesis: material contexts of knowledge production matter  \n",
      "Corollary: disconnect between practice and theory  "
     ]
    },
    {
     "cell_type": "markdown",
     "metadata": {},
     "source": [
      "<img src=\"img/publishing.png\">"
     ]
    },
    {
     "cell_type": "markdown",
     "metadata": {
      "slideshow": {
       "slide_type": "fragment"
      }
     },
     "source": [
      "$4000 per article cost to the journal \n",
      "http://www.nature.com/news/open-access-the-true-cost-of-science-publishing-1.12676"
     ]
    },
    {
     "cell_type": "markdown",
     "metadata": {
      "slideshow": {
       "slide_type": "subslide"
      }
     },
     "source": [
      "<img src=\"img/protest.png\">"
     ]
    },
    {
     "cell_type": "markdown",
     "metadata": {
      "slideshow": {
       "slide_type": "subslide"
      }
     },
     "source": [
      "<img src=\"img/base.png\">"
     ]
    },
    {
     "cell_type": "markdown",
     "metadata": {
      "slideshow": {
       "slide_type": "slide"
      }
     },
     "source": [
      "### Stay in touch!  \n",
      "\n",
      "@dennistenen  \n",
      "@gwijthoff  \n",
      "\n",
      "dennistenen.com  \n",
      "wythoff.net\n",
      "\n",
      "github.com/dhcolumbia/pandoc-workflow/tree/master/talks/plain-text"
     ]
    }
   ],
   "metadata": {}
  }
 ]
}